{
 "metadata": {
  "kernelspec": {
   "display_name": "Streamlit Notebook",
   "name": "streamlit"
  }
 },
 "nbformat_minor": 5,
 "nbformat": 4,
 "cells": [
  {
   "cell_type": "markdown",
   "id": "efd59d65-aef3-46a1-8f12-aefacd9a2398",
   "metadata": {
    "name": "cell4",
    "collapsed": false,
    "resultHeight": 74
   },
   "source": "# Processing Iceberg Tables with Snowpark"
  },
  {
   "cell_type": "markdown",
   "id": "4a892c27-716b-4fb1-ae1e-d5052b2583dc",
   "metadata": {
    "name": "cell5",
    "collapsed": false,
    "resultHeight": 60
   },
   "source": "## 1. Create Nation_Orders_Iceberg Table"
  },
  {
   "cell_type": "code",
   "id": "3775908f-ca36-4846-8f38-5adca39217f2",
   "metadata": {
    "language": "sql",
    "name": "cell1",
    "collapsed": false,
    "resultHeight": 112
   },
   "source": "USE ROLE iceberg_lab;\nUSE DATABASE iceberg_lab;\nUSE SCHEMA iceberg_lab;\nCREATE OR REPLACE ICEBERG TABLE nation_orders_iceberg (\n    regionkey INTEGER,\n    nationkey INTEGER,\n    nation STRING,\n    custkey INTEGER,\n    order_count INTEGER,\n    total_price INTEGER\n)\n    CATALOG = 'SNOWFLAKE'\n    EXTERNAL_VOLUME = 'iceberg_lab_vol'\n    BASE_LOCATION = '';",
   "execution_count": null,
   "outputs": []
  },
  {
   "cell_type": "markdown",
   "id": "b7dfa613-2f11-4395-a0fb-99891998c549",
   "metadata": {
    "name": "cell6",
    "collapsed": false,
    "resultHeight": 60
   },
   "source": "## 2. Use Snowpark to write data into Nation_Orders_Iceberg table"
  },
  {
   "cell_type": "code",
   "id": "8d50cbf4-0c8d-4950-86cb-114990437ac9",
   "metadata": {
    "language": "python",
    "name": "cell2",
    "collapsed": false,
    "resultHeight": 439
   },
   "source": "import snowflake.snowpark as snowpark\nfrom snowflake.snowpark import functions as sf\n\nfrom snowflake.snowpark.context import get_active_session\nsession = get_active_session()\n\ndf_orders = session.read.table(\"SNOWFLAKE_SAMPLE_DATA.TPCH_SF1.ORDERS\")\n\n# Perform aggregation on the DataFrame\ndf_orders_agg = (\n    df_orders\n    .groupBy(df_orders.o_custkey)\n    .agg(\n        sf.count(df_orders.o_orderkey).alias(\"order_count\"),\n        sf.sum(df_orders.o_totalprice).alias(\"total_price\")\n    )\n)\n\ndf_orders_agg = df_orders_agg.select(\"o_custkey\", \"order_count\", \"total_price\")\n\ndf_customer = session.read.table(\"ICEBERG_LAB.ICEBERG_LAB.CUSTOMER_ICEBERG\")    \ndf_nation = session.read.table(\"SNOWFLAKE_SAMPLE_DATA.TPCH_SF1.NATION\")\n\ndf_nation_customer = df_customer.join(df_nation, df_customer.col(\"c_nationkey\") == df_nation.col(\"n_nationkey\")).select(\"c_custkey\", df_nation[\"n_nationkey\"].as_(\"nationkey\"), df_nation[\"n_name\"].as_(\"nation\"), df_nation[\"n_regionkey\"].as_(\"regionkey\"))\ndf_nation_customer_orders_agg = df_nation_customer.join(df_orders_agg, df_nation_customer.col(\"c_custkey\") == df_orders_agg.col(\"o_custkey\")).select(\"regionkey\", \"nationkey\", \"nation\", df_nation_customer[\"c_custkey\"].as_(\"custkey\"), \"order_count\", \"total_price\")\n\ndf_nation_customer_orders_agg = df_nation_customer_orders_agg.select(\"regionkey\", \"nationkey\", \"nation\", \"custkey\", \"order_count\", \"total_price\")\n\n# Save result to iceberg table\ndf_nation_customer_orders_agg.write.mode(\"append\").save_as_table(\"nation_orders_iceberg\")\ndf_nation_customer_orders_agg",
   "execution_count": null,
   "outputs": []
  },
  {
   "cell_type": "code",
   "id": "4462cf1a-187c-470a-88c4-ab36f4ae6805",
   "metadata": {
    "language": "sql",
    "name": "cell3"
   },
   "outputs": [],
   "source": "SELECT COUNT(*) FROM ICEBERG_LAB.ICEBERG_LAB.NATION_ORDERS_ICEBERG;",
   "execution_count": null
  }
 ]
}